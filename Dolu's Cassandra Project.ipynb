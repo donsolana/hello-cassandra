{
 "cells": [
  {
   "cell_type": "markdown",
   "metadata": {
    "editable": true
   },
   "source": [
    "## Hello Cassandra"
   ]
  },
  {
   "cell_type": "markdown",
   "metadata": {
    "editable": true
   },
   "source": [
    "### Part I. ETL Pipeline for Pre-Processing the Files"
   ]
  },
  {
   "cell_type": "markdown",
   "metadata": {
    "editable": true
   },
   "source": [
    "#### Import Python packages "
   ]
  },
  {
   "cell_type": "code",
   "execution_count": 1,
   "metadata": {
    "editable": true
   },
   "outputs": [],
   "source": [
    "# Import Python packages \n",
    "import pandas as pd\n",
    "import cassandra\n",
    "import re\n",
    "import os\n",
    "import glob\n",
    "import numpy as np\n",
    "import json\n",
    "import csv"
   ]
  },
  {
   "cell_type": "markdown",
   "metadata": {
    "editable": true
   },
   "source": [
    "#### Creating list of filepaths to process original event csv data files"
   ]
  },
  {
   "cell_type": "code",
   "execution_count": 3,
   "metadata": {
    "editable": true
   },
   "outputs": [
    {
     "name": "stdout",
     "output_type": "stream",
     "text": [
      "/home/workspace\n",
      "['/home/workspace/event_data/2018-11-27-events.csv', '/home/workspace/event_data/2018-11-04-events.csv', '/home/workspace/event_data/2018-11-07-events.csv', '/home/workspace/event_data/2018-11-09-events.csv', '/home/workspace/event_data/2018-11-19-events.csv', '/home/workspace/event_data/2018-11-05-events.csv', '/home/workspace/event_data/2018-11-22-events.csv', '/home/workspace/event_data/2018-11-16-events.csv', '/home/workspace/event_data/2018-11-26-events.csv', '/home/workspace/event_data/2018-11-24-events.csv', '/home/workspace/event_data/2018-11-29-events.csv', '/home/workspace/event_data/2018-11-15-events.csv', '/home/workspace/event_data/2018-11-20-events.csv', '/home/workspace/event_data/2018-11-06-events.csv', '/home/workspace/event_data/2018-11-18-events.csv', '/home/workspace/event_data/2018-11-21-events.csv', '/home/workspace/event_data/2018-11-10-events.csv', '/home/workspace/event_data/2018-11-23-events.csv', '/home/workspace/event_data/2018-11-02-events.csv', '/home/workspace/event_data/2018-11-28-events.csv', '/home/workspace/event_data/2018-11-03-events.csv', '/home/workspace/event_data/2018-11-13-events.csv', '/home/workspace/event_data/2018-11-30-events.csv', '/home/workspace/event_data/2018-11-12-events.csv', '/home/workspace/event_data/2018-11-01-events.csv', '/home/workspace/event_data/2018-11-14-events.csv', '/home/workspace/event_data/2018-11-25-events.csv', '/home/workspace/event_data/2018-11-08-events.csv', '/home/workspace/event_data/2018-11-17-events.csv', '/home/workspace/event_data/2018-11-11-events.csv']\n"
     ]
    }
   ],
   "source": [
    "# checking your current working directory\n",
    "print(os.getcwd())\n",
    "\n",
    "# Get your current folder and subfolder event data\n",
    "filepath = os.getcwd() + '/event_data'\n",
    "\n",
    "# Create a for loop to create a list of files and collect each filepath\n",
    "for root, dirs, files in os.walk(filepath):\n",
    "    \n",
    "# join the file path and roots with the subdirectories using glob\n",
    "    file_path_list = glob.glob(os.path.join(root,'*'))\n",
    "    #print(file_path_list)"
   ]
  },
  {
   "cell_type": "markdown",
   "metadata": {
    "editable": true
   },
   "source": [
    "#### Processing the files to create the data file csv that will be used for Apache Casssandra tables"
   ]
  },
  {
   "cell_type": "code",
   "execution_count": 7,
   "metadata": {
    "editable": true
   },
   "outputs": [],
   "source": [
    "# initiating an empty list of rows that will be generated from each file\n",
    "full_data_rows_list = [] \n",
    "    \n",
    "# for every filepath in the file path list \n",
    "for f in file_path_list:\n",
    "\n",
    "# reading csv file \n",
    "    with open(f, 'r', encoding = 'utf8', newline='') as csvfile: \n",
    "        # creating a csv reader object \n",
    "        csvreader = csv.reader(csvfile) \n",
    "        next(csvreader)\n",
    "        \n",
    " # extracting each data row one by one and append it        \n",
    "        for line in csvreader:\n",
    "            full_data_rows_list.append(line) \n",
    "            \n",
    "\n",
    "#print(len(full_data_rows_list))\n",
    "\n",
    "#print(full_data_rows_list)\n",
    "\n",
    "# creating a smaller event data csv file called event_datafile_full csv that will be used to insert data into the \\\n",
    "# Apache Cassandra tables\n",
    "csv.register_dialect('myDialect', quoting=csv.QUOTE_ALL, skipinitialspace=True)\n",
    "\n",
    "with open('event_datafile_new.csv', 'w', encoding = 'utf8', newline='') as f:\n",
    "    writer = csv.writer(f, dialect='myDialect')\n",
    "    writer.writerow(['artist','firstName','gender','itemInSession','lastName','length',\\\n",
    "                'level','location','sessionId','song','userId'])\n",
    "    for row in full_data_rows_list:\n",
    "        if (row[0] == ''):\n",
    "            continue\n",
    "        writer.writerow((row[0], row[2], row[3], row[4], row[5], row[6], row[7], row[8], row[12], row[13], row[16]))\n"
   ]
  },
  {
   "cell_type": "code",
   "execution_count": 8,
   "metadata": {
    "editable": true
   },
   "outputs": [
    {
     "name": "stdout",
     "output_type": "stream",
     "text": [
      "6821\n"
     ]
    }
   ],
   "source": [
    "# check the number of rows in your csv file\n",
    "with open('event_datafile_new.csv', 'r', encoding = 'utf8') as f:\n",
    "    print(sum(1 for line in f))"
   ]
  },
  {
   "cell_type": "markdown",
   "metadata": {
    "editable": true
   },
   "source": [
    "### The event_datafile_new.csv contains the following columns: \n",
    "- artist \n",
    "- firstName of user\n",
    "- gender of user\n",
    "- item number in session\n",
    "- last name of user\n",
    "- length of the song\n",
    "- level (paid or free song)\n",
    "- location of the user\n",
    "- sessionId\n",
    "- song title\n",
    "- userId\n",
    "\n",
    "The image below is a screenshot of what the denormalized data should appear like in the <font color=red>**event_datafile_new.csv**</font> after the code above is run:<br>\n",
    "\n",
    "<img src=\"images/image_event_datafile_new.jpg\">"
   ]
  },
  {
   "cell_type": "markdown",
   "metadata": {
    "editable": true
   },
   "source": [
    "## Creating the database\n",
    "(artist_name, song_title, first_name,last_name, \\\n",
    "  user_id, session_id, item_in_session) = line[1], line[4], line[3]"
   ]
  },
  {
   "cell_type": "markdown",
   "metadata": {
    "editable": true
   },
   "source": [
    "#### Creating a Cluster"
   ]
  },
  {
   "cell_type": "code",
   "execution_count": 70,
   "metadata": {
    "editable": true
   },
   "outputs": [],
   "source": [
    "# This should make a connection to a Cassandra instance your local machine \n",
    "# (127.0.0.1)\n",
    "\n",
    "from cassandra.cluster import Cluster\n",
    "cluster = Cluster(['127.0.0.1'])\n",
    "\n",
    "# To establish connection and begin executing queries, need a session\n",
    "session = cluster.connect()"
   ]
  },
  {
   "cell_type": "markdown",
   "metadata": {
    "editable": true
   },
   "source": [
    "#### Create Keyspace"
   ]
  },
  {
   "cell_type": "code",
   "execution_count": 71,
   "metadata": {
    "editable": true
   },
   "outputs": [
    {
     "data": {
      "text/plain": [
       "<cassandra.cluster.ResultSet at 0x7fc89bd5a940>"
      ]
     },
     "execution_count": 71,
     "metadata": {},
     "output_type": "execute_result"
    }
   ],
   "source": [
    "session.execute(\"\"\"\n",
    "CREATE KEYSPACE IF NOT EXISTS sparkify \n",
    "WITH REPLICATION = { 'class' : 'SimpleStrategy', 'replication_factor' : 1 }\"\"\"\n",
    ")"
   ]
  },
  {
   "cell_type": "markdown",
   "metadata": {
    "editable": true
   },
   "source": [
    "#### Set Keyspace"
   ]
  },
  {
   "cell_type": "code",
   "execution_count": 72,
   "metadata": {
    "editable": true
   },
   "outputs": [],
   "source": [
    "session.set_keyspace(\"sparkify\")"
   ]
  },
  {
   "cell_type": "markdown",
   "metadata": {
    "editable": true
   },
   "source": [
    "#### Now we create tables to run the following queries, because, with Apache Cassandra you model the database tables on the queries to be ran."
   ]
  },
  {
   "cell_type": "markdown",
   "metadata": {
    "editable": true
   },
   "source": [
    "#### Create queries to ask the following three questions of the data\n",
    "\n",
    "##### 1. Give me the artist, song title and song's length in the music app history that was heard during  sessionId = 338, and itemInSession  = 4\n",
    "\n",
    "\n",
    "##### 2. Give me only the following: name of artist, song (sorted by itemInSession) and user (first and last name) for userid = 10, sessionid = 182\n",
    "    \n",
    "\n",
    "##### 3. Give me every user name (first and last) in my music app history who listened to the song 'All Hands Against His Own'\n",
    "\n",
    "\n"
   ]
  },
  {
   "cell_type": "markdown",
   "metadata": {
    "editable": true
   },
   "source": [
    "#### Table 1\n",
    "\n",
    "Here, the Primary Key has two fields: sessionId is the partition key, and itemInSession is clustering key. So the partition is done by sessionId and within that partition, rows are ordered by the itemInSession."
   ]
  },
  {
   "cell_type": "code",
   "execution_count": 43,
   "metadata": {
    "editable": true
   },
   "outputs": [],
   "source": [
    "#Table for query 1\n",
    "query = \"CREATE TABLE IF NOT EXISTS session_library\"\n",
    "query = query + \"(artist_name text, song_title text, song_length double, session_id int, item_in_session int, \\\n",
    "                 PRIMARY KEY (session_id, item_in_session))\"\n",
    "\n",
    "session.execute(query);            "
   ]
  },
  {
   "cell_type": "code",
   "execution_count": 33,
   "metadata": {
    "editable": true
   },
   "outputs": [],
   "source": [
    "\n",
    "file = 'event_datafile_new.csv'\n",
    "\n",
    "with open(file, encoding = 'utf8') as f:\n",
    "    csvreader = csv.reader(f)\n",
    "    next(csvreader) # skip header\n",
    "    for line in csvreader:\n",
    "        #INSERT\n",
    "        query = \"INSERT INTO session_library (artist_name, song_title, song_length, session_id, item_in_session)\"\n",
    "        query = query + \"VALUES (%s, %s, %s , %s, %s)\"\n",
    "        session.execute(query, (line[0], line[9], float(line[5]), int(line[8]), int(line[3])))"
   ]
  },
  {
   "cell_type": "markdown",
   "metadata": {
    "editable": true
   },
   "source": [
    "**REFERENCE**: Explicit type conversions when using csv reader\n",
    "https://stackoverflow.com/questions/55290883/invalid-string-constant-error-in-apache-cassandra-using-python"
   ]
  },
  {
   "cell_type": "markdown",
   "metadata": {
    "editable": true
   },
   "source": [
    "#### Using a SELECT to verify that the data have been inserted into each table"
   ]
  },
  {
   "cell_type": "code",
   "execution_count": 62,
   "metadata": {
    "editable": true,
    "scrolled": true
   },
   "outputs": [],
   "source": [
    "query = \"SELECT artist_name, song_title, song_length FROM session_library WHERE session_id = 338 AND item_in_session = 4\"\n",
    "rows = session.execute(query)\n",
    "\n",
    "for row in rows:\n",
    "    print(row.artist_name, row.song_title, row.song_length)"
   ]
  },
  {
   "cell_type": "markdown",
   "metadata": {
    "editable": true
   },
   "source": [
    "##### Table 2\n",
    "\n",
    "Here, the Primary Key is combination of three fields: user_id and session_id are the composite partition key, and itemInSession is clustering key. So the partition is done by sessionId and within that partition, rows are ordered by the itemInSession."
   ]
  },
  {
   "cell_type": "code",
   "execution_count": 77,
   "metadata": {
    "editable": true
   },
   "outputs": [],
   "source": [
    "query = \"CREATE TABLE IF NOT EXISTS user_session_library\"\n",
    "query = query + \"(artist_name text, song_title text, first_name text, last_name text, user_id int, session_id int, \\\n",
    "                 item_in_session int, PRIMARY KEY ((user_id, session_id), item_in_session))\"\n",
    "session.execute(query) \n",
    "\n",
    "with open(file, encoding = 'utf8') as f:\n",
    "    csvreader = csv.reader(f)\n",
    "    next(csvreader) # skip header\n",
    "    for line in csvreader:\n",
    "        query = \"INSERT INTO user_session_library (artist_name, song_title, first_name, last_name, \\\n",
    "                user_id, session_id, item_in_session)\"\n",
    "        query = query + \"VALUES (%s, %s, %s , %s, %s, %s, %s)\"\n",
    "\n",
    "        session.execute(query, (line[0], line[9], line[1], line[4], int(line[10]), int(line[8]), int(line[3])))\n"
   ]
  },
  {
   "cell_type": "markdown",
   "metadata": {
    "editable": true
   },
   "source": [
    "**Validating Table 2**"
   ]
  },
  {
   "cell_type": "code",
   "execution_count": 78,
   "metadata": {
    "editable": true
   },
   "outputs": [
    {
     "name": "stdout",
     "output_type": "stream",
     "text": [
      "Down To The Bone Keep On Keepin' On Sylvie Cruz\n",
      "Three Drives Greece 2000 Sylvie Cruz\n",
      "Sebastien Tellier Kilometer Sylvie Cruz\n",
      "Lonnie Gordon Catch You Baby (Steve Pitron & Max Sanna Radio Edit) Sylvie Cruz\n"
     ]
    }
   ],
   "source": [
    "query = \"SELECT artist_name, song_title, first_name, last_name FROM user_session_library\\\n",
    "         WHERE user_id = 10 AND session_id = 182\"\n",
    "rows = session.execute(query)\n",
    "\n",
    "for row in rows:\n",
    "    print(row.artist_name, row.song_title, row.first_name, row.last_name)"
   ]
  },
  {
   "cell_type": "markdown",
   "metadata": {
    "editable": true
   },
   "source": [
    "\n",
    "#### Table 3\n",
    "\n",
    "Here, the Primary Key has two fields: song_title is the partition key, and user_id is clustering key. So the partition is done by song_title and within that partition, rows are ordered by the itemInSession."
   ]
  },
  {
   "cell_type": "code",
   "execution_count": 1,
   "metadata": {
    "editable": true
   },
   "outputs": [],
   "source": [
    "## TO-DO: Query 3: Give me every user name (first and last) in my music app history who listened to the song \n",
    "#'All Hands Against His Own'\n",
    "query = \"CREATE TABLE IF NOT EXISTS listen_history\"\n",
    "query = query + \"(first_name text, last_name text, song_title text, user_id int, \\\n",
    "                 PRIMARY KEY (song_title, user_id))\"\n",
    "session.execute(query)     \n",
    "\n",
    "with open(file, encoding = 'utf8') as f:\n",
    "    csvreader = csv.reader(f)\n",
    "    next(csvreader) # skip header\n",
    "    for line in csvreader:\n",
    "        #INSERT\n",
    "        query = \"INSERT INTO listen_history (first_name, last_name, song_title, artist_name, user_id)\"\n",
    "        query = query + \"VALUES (%s, %s, %s , %s, %s)\"\n",
    "        session.execute(query, (line[1], line[4], line[9], line[0], int(line[10])))\n",
    "\n"
   ]
  },
  {
   "cell_type": "markdown",
   "metadata": {
    "editable": true
   },
   "source": [
    "#### validating query with select statements"
   ]
  },
  {
   "cell_type": "code",
   "execution_count": 98,
   "metadata": {
    "editable": true
   },
   "outputs": [
    {
     "name": "stdout",
     "output_type": "stream",
     "text": [
      "Jacqueline Lynch All Hands Against His Own The Black Keys\n",
      "Tegan Levine All Hands Against His Own The Black Keys\n",
      "Sara Johnson All Hands Against His Own The Black Keys\n"
     ]
    }
   ],
   "source": [
    "query = \"SELECT first_name, last_name FROM listen_history \\\n",
    "         WHERE song_title = 'All Hands Against His Own'\"\n",
    "rows = session.execute(query)\n",
    "\n",
    "for row in rows:\n",
    "    print(row.first_name, row.last_name, row.song_title, row.artist_name)"
   ]
  },
  {
   "cell_type": "markdown",
   "metadata": {
    "editable": true
   },
   "source": [
    "### Validating tables with Pandas"
   ]
  },
  {
   "cell_type": "code",
   "execution_count": 99,
   "metadata": {
    "editable": true
   },
   "outputs": [
    {
     "data": {
      "text/html": [
       "<div>\n",
       "<style scoped>\n",
       "    .dataframe tbody tr th:only-of-type {\n",
       "        vertical-align: middle;\n",
       "    }\n",
       "\n",
       "    .dataframe tbody tr th {\n",
       "        vertical-align: top;\n",
       "    }\n",
       "\n",
       "    .dataframe thead th {\n",
       "        text-align: right;\n",
       "    }\n",
       "</style>\n",
       "<table border=\"1\" class=\"dataframe\">\n",
       "  <thead>\n",
       "    <tr style=\"text-align: right;\">\n",
       "      <th></th>\n",
       "      <th>artist</th>\n",
       "      <th>firstName</th>\n",
       "      <th>gender</th>\n",
       "      <th>itemInSession</th>\n",
       "      <th>lastName</th>\n",
       "      <th>length</th>\n",
       "      <th>level</th>\n",
       "      <th>location</th>\n",
       "      <th>sessionId</th>\n",
       "      <th>song</th>\n",
       "      <th>userId</th>\n",
       "    </tr>\n",
       "  </thead>\n",
       "  <tbody>\n",
       "    <tr>\n",
       "      <th>0</th>\n",
       "      <td>Barry Tuckwell/Academy of St Martin-in-the-Fie...</td>\n",
       "      <td>Mohammad</td>\n",
       "      <td>M</td>\n",
       "      <td>0</td>\n",
       "      <td>Rodriguez</td>\n",
       "      <td>277.15873</td>\n",
       "      <td>paid</td>\n",
       "      <td>Sacramento--Roseville--Arden-Arcade, CA</td>\n",
       "      <td>961</td>\n",
       "      <td>Horn Concerto No. 4 in E flat K495: II. Romanc...</td>\n",
       "      <td>88</td>\n",
       "    </tr>\n",
       "    <tr>\n",
       "      <th>1</th>\n",
       "      <td>Jimi Hendrix</td>\n",
       "      <td>Mohammad</td>\n",
       "      <td>M</td>\n",
       "      <td>1</td>\n",
       "      <td>Rodriguez</td>\n",
       "      <td>239.82975</td>\n",
       "      <td>paid</td>\n",
       "      <td>Sacramento--Roseville--Arden-Arcade, CA</td>\n",
       "      <td>961</td>\n",
       "      <td>Woodstock Inprovisation</td>\n",
       "      <td>88</td>\n",
       "    </tr>\n",
       "    <tr>\n",
       "      <th>2</th>\n",
       "      <td>Building 429</td>\n",
       "      <td>Mohammad</td>\n",
       "      <td>M</td>\n",
       "      <td>2</td>\n",
       "      <td>Rodriguez</td>\n",
       "      <td>300.61669</td>\n",
       "      <td>paid</td>\n",
       "      <td>Sacramento--Roseville--Arden-Arcade, CA</td>\n",
       "      <td>961</td>\n",
       "      <td>Majesty (LP Version)</td>\n",
       "      <td>88</td>\n",
       "    </tr>\n",
       "    <tr>\n",
       "      <th>3</th>\n",
       "      <td>The B-52's</td>\n",
       "      <td>Gianna</td>\n",
       "      <td>F</td>\n",
       "      <td>0</td>\n",
       "      <td>Jones</td>\n",
       "      <td>321.54077</td>\n",
       "      <td>free</td>\n",
       "      <td>New York-Newark-Jersey City, NY-NJ-PA</td>\n",
       "      <td>107</td>\n",
       "      <td>Love Shack</td>\n",
       "      <td>38</td>\n",
       "    </tr>\n",
       "    <tr>\n",
       "      <th>4</th>\n",
       "      <td>Die Mooskirchner</td>\n",
       "      <td>Gianna</td>\n",
       "      <td>F</td>\n",
       "      <td>1</td>\n",
       "      <td>Jones</td>\n",
       "      <td>169.29914</td>\n",
       "      <td>free</td>\n",
       "      <td>New York-Newark-Jersey City, NY-NJ-PA</td>\n",
       "      <td>107</td>\n",
       "      <td>Frisch und g'sund</td>\n",
       "      <td>38</td>\n",
       "    </tr>\n",
       "  </tbody>\n",
       "</table>\n",
       "</div>"
      ],
      "text/plain": [
       "                                              artist firstName gender  \\\n",
       "0  Barry Tuckwell/Academy of St Martin-in-the-Fie...  Mohammad      M   \n",
       "1                                       Jimi Hendrix  Mohammad      M   \n",
       "2                                       Building 429  Mohammad      M   \n",
       "3                                         The B-52's    Gianna      F   \n",
       "4                                   Die Mooskirchner    Gianna      F   \n",
       "\n",
       "   itemInSession   lastName     length level  \\\n",
       "0              0  Rodriguez  277.15873  paid   \n",
       "1              1  Rodriguez  239.82975  paid   \n",
       "2              2  Rodriguez  300.61669  paid   \n",
       "3              0      Jones  321.54077  free   \n",
       "4              1      Jones  169.29914  free   \n",
       "\n",
       "                                  location  sessionId  \\\n",
       "0  Sacramento--Roseville--Arden-Arcade, CA        961   \n",
       "1  Sacramento--Roseville--Arden-Arcade, CA        961   \n",
       "2  Sacramento--Roseville--Arden-Arcade, CA        961   \n",
       "3    New York-Newark-Jersey City, NY-NJ-PA        107   \n",
       "4    New York-Newark-Jersey City, NY-NJ-PA        107   \n",
       "\n",
       "                                                song  userId  \n",
       "0  Horn Concerto No. 4 in E flat K495: II. Romanc...      88  \n",
       "1                            Woodstock Inprovisation      88  \n",
       "2                               Majesty (LP Version)      88  \n",
       "3                                         Love Shack      38  \n",
       "4                                  Frisch und g'sund      38  "
      ]
     },
     "execution_count": 99,
     "metadata": {},
     "output_type": "execute_result"
    }
   ],
   "source": [
    "event_table = pd.read_csv(\"event_datafile_new.csv\")\n",
    "event_table.head()"
   ]
  },
  {
   "cell_type": "code",
   "execution_count": 100,
   "metadata": {
    "editable": true
   },
   "outputs": [
    {
     "data": {
      "text/html": [
       "<div>\n",
       "<style scoped>\n",
       "    .dataframe tbody tr th:only-of-type {\n",
       "        vertical-align: middle;\n",
       "    }\n",
       "\n",
       "    .dataframe tbody tr th {\n",
       "        vertical-align: top;\n",
       "    }\n",
       "\n",
       "    .dataframe thead th {\n",
       "        text-align: right;\n",
       "    }\n",
       "</style>\n",
       "<table border=\"1\" class=\"dataframe\">\n",
       "  <thead>\n",
       "    <tr style=\"text-align: right;\">\n",
       "      <th></th>\n",
       "      <th>artist</th>\n",
       "      <th>firstName</th>\n",
       "      <th>gender</th>\n",
       "      <th>itemInSession</th>\n",
       "      <th>lastName</th>\n",
       "      <th>length</th>\n",
       "      <th>level</th>\n",
       "      <th>location</th>\n",
       "      <th>sessionId</th>\n",
       "      <th>song</th>\n",
       "      <th>userId</th>\n",
       "    </tr>\n",
       "  </thead>\n",
       "  <tbody>\n",
       "    <tr>\n",
       "      <th>444</th>\n",
       "      <td>Faithless</td>\n",
       "      <td>Ava</td>\n",
       "      <td>F</td>\n",
       "      <td>4</td>\n",
       "      <td>Robinson</td>\n",
       "      <td>495.3073</td>\n",
       "      <td>free</td>\n",
       "      <td>New Haven-Milford, CT</td>\n",
       "      <td>338</td>\n",
       "      <td>Music Matters (Mark Knight Dub)</td>\n",
       "      <td>50</td>\n",
       "    </tr>\n",
       "  </tbody>\n",
       "</table>\n",
       "</div>"
      ],
      "text/plain": [
       "        artist firstName gender  itemInSession  lastName    length level  \\\n",
       "444  Faithless       Ava      F              4  Robinson  495.3073  free   \n",
       "\n",
       "                  location  sessionId                             song  userId  \n",
       "444  New Haven-Milford, CT        338  Music Matters (Mark Knight Dub)      50  "
      ]
     },
     "execution_count": 100,
     "metadata": {},
     "output_type": "execute_result"
    }
   ],
   "source": [
    "#Query 1 is correct\n",
    "event_table[(event_table.sessionId == 338) & (event_table.itemInSession == 4)]"
   ]
  },
  {
   "cell_type": "code",
   "execution_count": 58,
   "metadata": {
    "editable": true
   },
   "outputs": [
    {
     "data": {
      "text/html": [
       "<div>\n",
       "<style scoped>\n",
       "    .dataframe tbody tr th:only-of-type {\n",
       "        vertical-align: middle;\n",
       "    }\n",
       "\n",
       "    .dataframe tbody tr th {\n",
       "        vertical-align: top;\n",
       "    }\n",
       "\n",
       "    .dataframe thead th {\n",
       "        text-align: right;\n",
       "    }\n",
       "</style>\n",
       "<table border=\"1\" class=\"dataframe\">\n",
       "  <thead>\n",
       "    <tr style=\"text-align: right;\">\n",
       "      <th></th>\n",
       "      <th>artist</th>\n",
       "      <th>firstName</th>\n",
       "      <th>gender</th>\n",
       "      <th>itemInSession</th>\n",
       "      <th>lastName</th>\n",
       "      <th>length</th>\n",
       "      <th>level</th>\n",
       "      <th>location</th>\n",
       "      <th>sessionId</th>\n",
       "      <th>song</th>\n",
       "      <th>userId</th>\n",
       "    </tr>\n",
       "  </thead>\n",
       "  <tbody>\n",
       "    <tr>\n",
       "      <th>4704</th>\n",
       "      <td>Down To The Bone</td>\n",
       "      <td>Sylvie</td>\n",
       "      <td>F</td>\n",
       "      <td>0</td>\n",
       "      <td>Cruz</td>\n",
       "      <td>333.76608</td>\n",
       "      <td>free</td>\n",
       "      <td>Washington-Arlington-Alexandria, DC-VA-MD-WV</td>\n",
       "      <td>182</td>\n",
       "      <td>Keep On Keepin' On</td>\n",
       "      <td>10</td>\n",
       "    </tr>\n",
       "    <tr>\n",
       "      <th>4705</th>\n",
       "      <td>Three Drives</td>\n",
       "      <td>Sylvie</td>\n",
       "      <td>F</td>\n",
       "      <td>1</td>\n",
       "      <td>Cruz</td>\n",
       "      <td>411.63710</td>\n",
       "      <td>free</td>\n",
       "      <td>Washington-Arlington-Alexandria, DC-VA-MD-WV</td>\n",
       "      <td>182</td>\n",
       "      <td>Greece 2000</td>\n",
       "      <td>10</td>\n",
       "    </tr>\n",
       "    <tr>\n",
       "      <th>4706</th>\n",
       "      <td>Sebastien Tellier</td>\n",
       "      <td>Sylvie</td>\n",
       "      <td>F</td>\n",
       "      <td>2</td>\n",
       "      <td>Cruz</td>\n",
       "      <td>377.73016</td>\n",
       "      <td>free</td>\n",
       "      <td>Washington-Arlington-Alexandria, DC-VA-MD-WV</td>\n",
       "      <td>182</td>\n",
       "      <td>Kilometer</td>\n",
       "      <td>10</td>\n",
       "    </tr>\n",
       "    <tr>\n",
       "      <th>4707</th>\n",
       "      <td>Lonnie Gordon</td>\n",
       "      <td>Sylvie</td>\n",
       "      <td>F</td>\n",
       "      <td>3</td>\n",
       "      <td>Cruz</td>\n",
       "      <td>181.21098</td>\n",
       "      <td>free</td>\n",
       "      <td>Washington-Arlington-Alexandria, DC-VA-MD-WV</td>\n",
       "      <td>182</td>\n",
       "      <td>Catch You Baby (Steve Pitron &amp; Max Sanna Radio...</td>\n",
       "      <td>10</td>\n",
       "    </tr>\n",
       "  </tbody>\n",
       "</table>\n",
       "</div>"
      ],
      "text/plain": [
       "                 artist firstName gender  itemInSession lastName     length  \\\n",
       "4704   Down To The Bone    Sylvie      F              0     Cruz  333.76608   \n",
       "4705       Three Drives    Sylvie      F              1     Cruz  411.63710   \n",
       "4706  Sebastien Tellier    Sylvie      F              2     Cruz  377.73016   \n",
       "4707      Lonnie Gordon    Sylvie      F              3     Cruz  181.21098   \n",
       "\n",
       "     level                                      location  sessionId  \\\n",
       "4704  free  Washington-Arlington-Alexandria, DC-VA-MD-WV        182   \n",
       "4705  free  Washington-Arlington-Alexandria, DC-VA-MD-WV        182   \n",
       "4706  free  Washington-Arlington-Alexandria, DC-VA-MD-WV        182   \n",
       "4707  free  Washington-Arlington-Alexandria, DC-VA-MD-WV        182   \n",
       "\n",
       "                                                   song  userId  \n",
       "4704                                 Keep On Keepin' On      10  \n",
       "4705                                        Greece 2000      10  \n",
       "4706                                          Kilometer      10  \n",
       "4707  Catch You Baby (Steve Pitron & Max Sanna Radio...      10  "
      ]
     },
     "execution_count": 58,
     "metadata": {},
     "output_type": "execute_result"
    }
   ],
   "source": [
    "#Query 2\n",
    "event_table[(event_table.userId == 10) & (event_table.sessionId == 182)]"
   ]
  },
  {
   "cell_type": "code",
   "execution_count": 101,
   "metadata": {
    "editable": true
   },
   "outputs": [
    {
     "data": {
      "text/html": [
       "<div>\n",
       "<style scoped>\n",
       "    .dataframe tbody tr th:only-of-type {\n",
       "        vertical-align: middle;\n",
       "    }\n",
       "\n",
       "    .dataframe tbody tr th {\n",
       "        vertical-align: top;\n",
       "    }\n",
       "\n",
       "    .dataframe thead th {\n",
       "        text-align: right;\n",
       "    }\n",
       "</style>\n",
       "<table border=\"1\" class=\"dataframe\">\n",
       "  <thead>\n",
       "    <tr style=\"text-align: right;\">\n",
       "      <th></th>\n",
       "      <th>artist</th>\n",
       "      <th>firstName</th>\n",
       "      <th>gender</th>\n",
       "      <th>itemInSession</th>\n",
       "      <th>lastName</th>\n",
       "      <th>length</th>\n",
       "      <th>level</th>\n",
       "      <th>location</th>\n",
       "      <th>sessionId</th>\n",
       "      <th>song</th>\n",
       "      <th>userId</th>\n",
       "    </tr>\n",
       "  </thead>\n",
       "  <tbody>\n",
       "    <tr>\n",
       "      <th>2792</th>\n",
       "      <td>The Black Keys</td>\n",
       "      <td>Tegan</td>\n",
       "      <td>F</td>\n",
       "      <td>25</td>\n",
       "      <td>Levine</td>\n",
       "      <td>196.91057</td>\n",
       "      <td>paid</td>\n",
       "      <td>Portland-South Portland, ME</td>\n",
       "      <td>611</td>\n",
       "      <td>All Hands Against His Own</td>\n",
       "      <td>80</td>\n",
       "    </tr>\n",
       "    <tr>\n",
       "      <th>5135</th>\n",
       "      <td>The Black Keys</td>\n",
       "      <td>Sara</td>\n",
       "      <td>F</td>\n",
       "      <td>31</td>\n",
       "      <td>Johnson</td>\n",
       "      <td>196.91057</td>\n",
       "      <td>paid</td>\n",
       "      <td>Winston-Salem, NC</td>\n",
       "      <td>152</td>\n",
       "      <td>All Hands Against His Own</td>\n",
       "      <td>95</td>\n",
       "    </tr>\n",
       "    <tr>\n",
       "      <th>6298</th>\n",
       "      <td>The Black Keys</td>\n",
       "      <td>Jacqueline</td>\n",
       "      <td>F</td>\n",
       "      <td>50</td>\n",
       "      <td>Lynch</td>\n",
       "      <td>196.91057</td>\n",
       "      <td>paid</td>\n",
       "      <td>Atlanta-Sandy Springs-Roswell, GA</td>\n",
       "      <td>559</td>\n",
       "      <td>All Hands Against His Own</td>\n",
       "      <td>29</td>\n",
       "    </tr>\n",
       "  </tbody>\n",
       "</table>\n",
       "</div>"
      ],
      "text/plain": [
       "              artist   firstName gender  itemInSession lastName     length  \\\n",
       "2792  The Black Keys       Tegan      F             25   Levine  196.91057   \n",
       "5135  The Black Keys        Sara      F             31  Johnson  196.91057   \n",
       "6298  The Black Keys  Jacqueline      F             50    Lynch  196.91057   \n",
       "\n",
       "     level                           location  sessionId  \\\n",
       "2792  paid        Portland-South Portland, ME        611   \n",
       "5135  paid                  Winston-Salem, NC        152   \n",
       "6298  paid  Atlanta-Sandy Springs-Roswell, GA        559   \n",
       "\n",
       "                           song  userId  \n",
       "2792  All Hands Against His Own      80  \n",
       "5135  All Hands Against His Own      95  \n",
       "6298  All Hands Against His Own      29  "
      ]
     },
     "execution_count": 101,
     "metadata": {},
     "output_type": "execute_result"
    }
   ],
   "source": [
    "#query 3\n",
    "event_table[event_table.song == 'All Hands Against His Own']"
   ]
  },
  {
   "cell_type": "markdown",
   "metadata": {
    "editable": true
   },
   "source": [
    "### Drop the tables before closing out the sessions"
   ]
  },
  {
   "cell_type": "code",
   "execution_count": 102,
   "metadata": {
    "editable": true
   },
   "outputs": [],
   "source": [
    "query = \"DROP TABLE IF EXISTS session_library\"\n",
    "session.execute(query);\n",
    "\n",
    "query = \"DROP TABLE IF EXISTS user_session_library\"\n",
    "session.execute(query);\n",
    "\n",
    "query = \"DROP TABLE IF EXISTS listen_history\"\n",
    "session.execute(query);"
   ]
  },
  {
   "cell_type": "markdown",
   "metadata": {
    "editable": true
   },
   "source": [
    "### Close the session and cluster connection¶"
   ]
  },
  {
   "cell_type": "code",
   "execution_count": 103,
   "metadata": {
    "editable": true
   },
   "outputs": [],
   "source": [
    "session.shutdown()\n",
    "cluster.shutdown()"
   ]
  },
  {
   "cell_type": "code",
   "execution_count": null,
   "metadata": {
    "editable": true
   },
   "outputs": [],
   "source": []
  },
  {
   "cell_type": "code",
   "execution_count": null,
   "metadata": {
    "editable": true
   },
   "outputs": [],
   "source": []
  }
 ],
 "metadata": {
  "kernelspec": {
   "display_name": "Python 3",
   "language": "python",
   "name": "python3"
  },
  "language_info": {
   "codemirror_mode": {
    "name": "ipython",
    "version": 3
   },
   "file_extension": ".py",
   "mimetype": "text/x-python",
   "name": "python",
   "nbconvert_exporter": "python",
   "pygments_lexer": "ipython3",
   "version": "3.6.3"
  }
 },
 "nbformat": 4,
 "nbformat_minor": 4
}
